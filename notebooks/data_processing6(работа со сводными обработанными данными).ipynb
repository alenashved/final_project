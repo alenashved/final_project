{
 "cells": [
  {
   "cell_type": "code",
   "execution_count": 9,
   "id": "449865ef-209e-407f-ad0d-cd39a1706d00",
   "metadata": {},
   "outputs": [],
   "source": [
    "import pandas as pd\n",
    "import numpy as np"
   ]
  },
  {
   "cell_type": "code",
   "execution_count": 11,
   "id": "eced5688-d41c-4309-91b7-8d1be26d3374",
   "metadata": {},
   "outputs": [],
   "source": [
    "# Загрузка данных\n",
    "df = pd.read_excel('СВОД_ обработанные_данные_подразделения.xlsx')  "
   ]
  },
  {
   "cell_type": "code",
   "execution_count": 13,
   "id": "a21616f5-6f8a-4539-934a-9e179e7aff67",
   "metadata": {},
   "outputs": [],
   "source": [
    "# Сохраняем исходное количество пустых значений для отчета\n",
    "initial_empty = ((df['postal_code'].isna()) | (df['postal_code'] == '')).sum()"
   ]
  },
  {
   "cell_type": "code",
   "execution_count": 15,
   "id": "9294eefe-3e0c-4e86-aca1-f00f9f0db648",
   "metadata": {},
   "outputs": [],
   "source": [
    "# Заполнение postal_code значениями из других столбцов по приоритету\n",
    "mask = (df['postal_code'].isna()) | (df['postal_code'] == '')\n",
    "df.loc[mask, 'postal_code'] = df.loc[mask, 'postal_code_x']"
   ]
  },
  {
   "cell_type": "code",
   "execution_count": 17,
   "id": "f1b73672-a37f-49bf-89d6-7670c43ff194",
   "metadata": {},
   "outputs": [],
   "source": [
    "mask = (df['postal_code'].isna()) | (df['postal_code'] == '')\n",
    "df.loc[mask, 'postal_code'] = df.loc[mask, 'postal_code1']"
   ]
  },
  {
   "cell_type": "code",
   "execution_count": 19,
   "id": "293d9963-1a4b-44e8-b071-8a230a37d0d4",
   "metadata": {},
   "outputs": [],
   "source": [
    "# Подсчитываем сколько значений было заполнено\n",
    "final_empty = ((df['postal_code'].isna()) | (df['postal_code'] == '')).sum()\n",
    "filled_count = initial_empty - final_empty"
   ]
  },
  {
   "cell_type": "code",
   "execution_count": 21,
   "id": "4f3d6eaa-ee33-4c7a-9ec8-fb1754858d69",
   "metadata": {},
   "outputs": [],
   "source": [
    "# Сохранение в новый файл\n",
    "output_filename = 'СВОД_ обработанные_данные_подразделения_испр.xlsx'\n",
    "df.to_excel(output_filename, index=False)"
   ]
  },
  {
   "cell_type": "code",
   "execution_count": 22,
   "id": "75fa9ae8-9437-4f74-97ec-8510beeda6e5",
   "metadata": {},
   "outputs": [
    {
     "name": "stdout",
     "output_type": "stream",
     "text": [
      "Обработка завершена!\n",
      "Исходное количество пустых значений в postal_code: 5231\n",
      "Заполнено значений: 4927\n",
      "Осталось пустых значений: 304\n",
      "Файл сохранен как: СВОД_ обработанные_данные_подразделения_испр.xlsx\n"
     ]
    }
   ],
   "source": [
    "# Вывод отчета о выполнении\n",
    "print(f\"Обработка завершена!\")\n",
    "print(f\"Исходное количество пустых значений в postal_code: {initial_empty}\")\n",
    "print(f\"Заполнено значений: {filled_count}\")\n",
    "print(f\"Осталось пустых значений: {final_empty}\")\n",
    "print(f\"Файл сохранен как: {output_filename}\")"
   ]
  },
  {
   "cell_type": "code",
   "execution_count": 25,
   "id": "d2fcde68-061b-4c9b-b5e5-176af2c8c240",
   "metadata": {},
   "outputs": [],
   "source": [
    "# Загрузка данных\n",
    "df = pd.read_excel('ИТОГ_повт_обработанные_яндекс26.08.xlsx')  "
   ]
  },
  {
   "cell_type": "code",
   "execution_count": 26,
   "id": "7509ded8-c1d1-412e-a0f3-0f22aa77d55f",
   "metadata": {},
   "outputs": [],
   "source": [
    "# Сохраняем исходное количество пустых значений для отчета\n",
    "initial_empty = ((df['postal_code'].isna()) | (df['postal_code'] == '')).sum()"
   ]
  },
  {
   "cell_type": "code",
   "execution_count": 31,
   "id": "d8fee270-9ec9-47dc-9265-5bea25ba6347",
   "metadata": {},
   "outputs": [],
   "source": [
    "# Заполнение postal_code значениями из других столбцов по приоритету\n",
    "mask = (df['postal_code'].isna()) | (df['postal_code'] == '')\n",
    "df.loc[mask, 'postal_code'] = df.loc[mask, 'postal_code_x']"
   ]
  },
  {
   "cell_type": "code",
   "execution_count": 33,
   "id": "bce74e80-a867-4d88-b4c2-fa4e7ef1e910",
   "metadata": {},
   "outputs": [],
   "source": [
    "# Подсчитываем сколько значений было заполнено\n",
    "final_empty = ((df['postal_code'].isna()) | (df['postal_code'] == '')).sum()\n",
    "filled_count = initial_empty - final_empty"
   ]
  },
  {
   "cell_type": "code",
   "execution_count": 35,
   "id": "8fdffc77-54a5-41af-983c-86f29e8a8f0d",
   "metadata": {},
   "outputs": [],
   "source": [
    "# Сохранение в новый файл\n",
    "output_filename = 'ИТОГ_повт_обработанные_яндекс.xlsx'\n",
    "df.to_excel(output_filename, index=False)"
   ]
  },
  {
   "cell_type": "code",
   "execution_count": 37,
   "id": "53692116-a978-42aa-b5e2-1792bfa773fc",
   "metadata": {},
   "outputs": [
    {
     "name": "stdout",
     "output_type": "stream",
     "text": [
      "Обработка завершена!\n",
      "Исходное количество пустых значений в postal_code: 5368\n",
      "Заполнено значений из postal_code_x: 4360\n",
      "Осталось пустых значений: 1008\n",
      "Файл сохранен как: ИТОГ_повт_обработанные_яндекс.xlsx\n"
     ]
    }
   ],
   "source": [
    "# Вывод отчета о выполнении\n",
    "print(f\"Обработка завершена!\")\n",
    "print(f\"Исходное количество пустых значений в postal_code: {initial_empty}\")\n",
    "print(f\"Заполнено значений из postal_code_x: {filled_count}\")\n",
    "print(f\"Осталось пустых значений: {final_empty}\")\n",
    "print(f\"Файл сохранен как: {output_filename}\")"
   ]
  },
  {
   "cell_type": "code",
   "execution_count": null,
   "id": "fb0a1a7a-815a-42a4-8516-0e6d52ad405a",
   "metadata": {},
   "outputs": [],
   "source": []
  }
 ],
 "metadata": {
  "kernelspec": {
   "display_name": "Python 3 (ipykernel)",
   "language": "python",
   "name": "python3"
  },
  "language_info": {
   "codemirror_mode": {
    "name": "ipython",
    "version": 3
   },
   "file_extension": ".py",
   "mimetype": "text/x-python",
   "name": "python",
   "nbconvert_exporter": "python",
   "pygments_lexer": "ipython3",
   "version": "3.12.4"
  }
 },
 "nbformat": 4,
 "nbformat_minor": 5
}
