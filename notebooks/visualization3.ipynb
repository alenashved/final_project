{
 "cells": [
  {
   "cell_type": "markdown",
   "id": "5e62a765-c9a4-4820-ac99-75d21dc6fc62",
   "metadata": {},
   "source": [
    "<font size=\"4\">**Общая картина. Расчет плотности финансовых организаций (ФО) по регионам РФ и построение тепловой карты**</font>"
   ]
  },
  {
   "cell_type": "code",
   "execution_count": 184,
   "id": "2fcb4957-899e-4b5a-b3f0-f174729b84bb",
   "metadata": {},
   "outputs": [],
   "source": [
    "import folium\n",
    "from folium.plugins import HeatMap, FastMarkerCluster\n",
    "import pandas as pd\n",
    "import html"
   ]
  },
  {
   "cell_type": "code",
   "execution_count": 152,
   "id": "30be16f8-b1dc-42e9-9eac-3470add4d315",
   "metadata": {},
   "outputs": [],
   "source": [
    "# Загрузка данных \n",
    "df = pd.read_excel('Свод ГО и подразделения.xlsx') "
   ]
  },
  {
   "cell_type": "code",
   "execution_count": 315,
   "id": "3bb259c4-8e22-46e3-9f7e-328a0ea4e0ca",
   "metadata": {},
   "outputs": [],
   "source": [
    "# Преобразуем координаты в числовой формат\n",
    "df['geo_lat'] = pd.to_numeric(df['geo_lat'], errors='coerce')\n",
    "df['geo_lon'] = pd.to_numeric(df['geo_lon'], errors='coerce')"
   ]
  },
  {
   "cell_type": "code",
   "execution_count": 317,
   "id": "674e6940-d2ee-4edb-bbfa-715df635aee1",
   "metadata": {},
   "outputs": [
    {
     "name": "stdout",
     "output_type": "stream",
     "text": [
      "Широта: 41.461889 - 73.50673\n",
      "Долгота: 19.894477 - 179.25444\n"
     ]
    }
   ],
   "source": [
    "# Проверьте диапазон координат\n",
    "print(f\"Широта: {df['geo_lat'].min()} - {df['geo_lat'].max()}\")\n",
    "print(f\"Долгота: {df['geo_lon'].min()} - {df['geo_lon'].max()}\")"
   ]
  },
  {
   "cell_type": "code",
   "execution_count": 319,
   "id": "5cc10133-32a6-43a3-a78b-e1d8811cb813",
   "metadata": {},
   "outputs": [],
   "source": [
    "# Создаем столбец с полным адресом\n",
    "df['full_address'] = (df['federal_district'] + ' ФО, ' + df['region'] + ', ' + df['city'] + ', ' + df['street'] + ', ' + df['house'].astype(str))"
   ]
  },
  {
   "cell_type": "code",
   "execution_count": 321,
   "id": "7a7f905e-62ef-414b-8dbe-8a425e3099cf",
   "metadata": {},
   "outputs": [],
   "source": [
    "# Создаем базовую карту\n",
    "center_lat = (df['geo_lat'].min() + df['geo_lat'].max()) / 2\n",
    "center_lon = (df['geo_lon'].min() + df['geo_lon'].max()) / 2\n",
    "\n",
    "m = folium.Map(\n",
    "    location=[center_lat, center_lon],\n",
    "    zoom_start=4,\n",
    "    tiles='OpenStreetMap'\n",
    ")"
   ]
  },
  {
   "cell_type": "code",
   "execution_count": 323,
   "id": "57365ece-583f-49d1-9ea9-82e21a6c1ac7",
   "metadata": {},
   "outputs": [
    {
     "name": "stdout",
     "output_type": "stream",
     "text": [
      "Создаем тепловую карту...\n"
     ]
    },
    {
     "data": {
      "text/plain": [
       "<folium.plugins.heat_map.HeatMap at 0x1d2afe219a0>"
      ]
     },
     "execution_count": 323,
     "metadata": {},
     "output_type": "execute_result"
    }
   ],
   "source": [
    "# 1. Добавляем тепловую карту (для общей плотности)\n",
    "print(\"Создаем тепловую карту...\")\n",
    "heat_data = [[row['geo_lat'], row['geo_lon']] for _, row in df.iterrows()]\n",
    "\n",
    "HeatMap(\n",
    "    heat_data,\n",
    "    radius=10,\n",
    "    blur=15,\n",
    "    max_zoom=12,\n",
    "    min_opacity=0.3,\n",
    "    gradient={0.2: 'blue', 0.4: 'cyan', 0.6: 'lime', 0.8: 'yellow', 1.0: 'red'},\n",
    "    name=\"Тепловая карта плотности\"\n",
    ").add_to(m)"
   ]
  },
  {
   "cell_type": "code",
   "execution_count": 324,
   "id": "90f68bf0-a123-4296-91d5-bea7087c91aa",
   "metadata": {},
   "outputs": [
    {
     "name": "stdout",
     "output_type": "stream",
     "text": [
      "Создаем кластеры маркеров...\n"
     ]
    },
    {
     "data": {
      "text/plain": [
       "<folium.plugins.fast_marker_cluster.FastMarkerCluster at 0x1d35c2b3dd0>"
      ]
     },
     "execution_count": 324,
     "metadata": {},
     "output_type": "execute_result"
    }
   ],
   "source": [
    "# 2. Добавляем быстрые кластеры маркеров (для детальной информации)\n",
    "print(\"Создаем кластеры маркеров...\")\n",
    "\n",
    "# Создаем список координат и popup-текстов\n",
    "locations = []\n",
    "popups = []\n",
    "\n",
    "for _, row in df.iterrows():\n",
    "    # Формируем popup текст в одну строку с разделителями\n",
    "    popup_text = (\n",
    "        f\"{row['name']} | \"\n",
    "        f\"ИНН: {row['inn']}\"\n",
    "        \n",
    "    )\n",
    "    \n",
    "    # Обрезаем длинный текст (если нужно)\n",
    "    if len(popup_text) > 100:\n",
    "        popup_text = popup_text[:97] + \"...\"\n",
    "    \n",
    "    locations.append([row['geo_lat'], row['geo_lon']])\n",
    "    popups.append(popup_text)\n",
    "\n",
    "# Добавляем FastMarkerCluster\n",
    "FastMarkerCluster(\n",
    "    data=locations,\n",
    "    popups=popups,\n",
    "    name=\"Финансовые организации\",\n",
    "    options={\n",
    "        'showCoverageOnHover': False,\n",
    "        'spiderfyOnMaxZoom': True,\n",
    "        'disableClusteringAtZoom': 15\n",
    "    }\n",
    ").add_to(m)"
   ]
  },
  {
   "cell_type": "code",
   "execution_count": 326,
   "id": "24fa6f4d-bd5f-4084-b52a-73fca2819f59",
   "metadata": {},
   "outputs": [],
   "source": [
    "# Проверочный код для тестирования popups\n",
    "# test_locations = [\n",
    "#     [55.7558, 37.6173],  # Москва\n",
    "#     [59.9343, 30.3351],  # СПб\n",
    "#     [54.9893, 73.3682]   # Омск\n",
    "# ]\n",
    "\n",
    "# test_popups = [\n",
    "#     \"Тест 1: Сбербанк\",\n",
    "#     \"Тест 2: ВТБ\", \n",
    "#     \"Тест 3: Газпромбанк\"\n",
    "# ]\n",
    "\n",
    "# # Добавляем тестовые точки\n",
    "# for i, (loc, popup) in enumerate(zip(test_locations, test_popups)):\n",
    "#     folium.Marker(\n",
    "#         location=loc,\n",
    "#         popup=popup,\n",
    "#         icon=folium.Icon(color='red', icon='info-sign')\n",
    "#     ).add_to(m)"
   ]
  },
  {
   "cell_type": "code",
   "execution_count": 327,
   "id": "b2429aa2-1d93-4770-b28a-0a199820d055",
   "metadata": {},
   "outputs": [],
   "source": [
    "# Создаем FastMarkerCluster с кастомными иконками\n",
    "def create_cluster_icon(feature):\n",
    "    \"\"\"Создаем иконки разного цвета в зависимости от типа организации\"\"\"\n",
    "    color = 'green' if 'Кредит' in str(feature['properties']['tp']) else 'blue'\n",
    "    return folium.Icon(color=color, icon='bank', prefix='fa')"
   ]
  },
  {
   "cell_type": "code",
   "execution_count": 331,
   "id": "0d2506f0-c15c-40dd-8681-5d4648db5fda",
   "metadata": {},
   "outputs": [
    {
     "data": {
      "text/plain": [
       "<folium.map.LayerControl at 0x1d33c3a0170>"
      ]
     },
     "execution_count": 331,
     "metadata": {},
     "output_type": "execute_result"
    }
   ],
   "source": [
    "# 3. Добавляем слой управления\n",
    "folium.LayerControl(\n",
    "    position='topright',\n",
    "    collapsed=False\n",
    ").add_to(m)"
   ]
  },
  {
   "cell_type": "code",
   "execution_count": 333,
   "id": "f1586ab7-6801-4b9b-81ba-cca4dfbad0bb",
   "metadata": {},
   "outputs": [
    {
     "data": {
      "text/plain": [
       "<branca.element.Element at 0x1d36ec2bb30>"
      ]
     },
     "execution_count": 333,
     "metadata": {},
     "output_type": "execute_result"
    }
   ],
   "source": [
    "# 4. Добавляем заголовок\n",
    "title_html = '''\n",
    "<h3 align=\"center\" style=\"font-size:16px; margin:10px;\">\n",
    "    <b>Плотность финансовых организаций по регионам РФ</b>\n",
    "</h3>\n",
    "<p align=\"center\" style=\"font-size:12px; margin:5px;\">\n",
    "    Тепловая карта показывает плотность, кластеры - конкретные организации\n",
    "</p>\n",
    "'''\n",
    "m.get_root().html.add_child(folium.Element(title_html))"
   ]
  },
  {
   "cell_type": "code",
   "execution_count": 335,
   "id": "007520e0-f889-4b17-94c8-86415d0cda04",
   "metadata": {},
   "outputs": [
    {
     "name": "stdout",
     "output_type": "stream",
     "text": [
      "✅ Карта успешно создана!\n",
      "📊 Организаций на карте: 48826\n",
      "📍 Файл: financial_organizations_complete_map.html\n"
     ]
    }
   ],
   "source": [
    "# 5. Сохраняем карту\n",
    "m.save('financial_organizations_complete_map.html')\n",
    "\n",
    "print(\"✅ Карта успешно создана!\")\n",
    "print(f\"📊 Организаций на карте: {len(df)}\")\n",
    "print(f\"📍 Файл: financial_organizations_complete_map.html\")"
   ]
  },
  {
   "cell_type": "code",
   "execution_count": null,
   "id": "41c659e1-7ca9-4ed8-8edc-cc721b15f485",
   "metadata": {},
   "outputs": [],
   "source": []
  }
 ],
 "metadata": {
  "kernelspec": {
   "display_name": "Python 3 (ipykernel)",
   "language": "python",
   "name": "python3"
  },
  "language_info": {
   "codemirror_mode": {
    "name": "ipython",
    "version": 3
   },
   "file_extension": ".py",
   "mimetype": "text/x-python",
   "name": "python",
   "nbconvert_exporter": "python",
   "pygments_lexer": "ipython3",
   "version": "3.12.4"
  }
 },
 "nbformat": 4,
 "nbformat_minor": 5
}
