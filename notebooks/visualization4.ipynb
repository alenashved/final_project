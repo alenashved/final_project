{
 "cells": [
  {
   "cell_type": "markdown",
   "id": "ab88a06a-3b1b-4b00-9442-ed194eb7114e",
   "metadata": {},
   "source": [
    "<font size=\"4\">**Детализированная картина. Расчет плотности финансовых организаций (ФО) по регионам РФ и построение тепловой карты с учетом метрик плотности:**</font>\n",
    "\n",
    "<font size=\"4\">- количество организаций на квадратный километр (density_per_km2);</font>\n",
    "\n",
    "<font size=\"4\">- количество организаций на 100 тысяч населения (density_per_100k).</font>\n",
    "\n",
    "<font size=\"4\">**Часть 1. Подготовка таблицы рейтингов ФО с учетом метрик плотности.**</font>"
   ]
  },
  {
   "cell_type": "code",
   "execution_count": 2,
   "id": "abae0cda-f617-4770-93d1-8bc89f55b68a",
   "metadata": {},
   "outputs": [],
   "source": [
    "import pandas as pd\n",
    "# import folium\n",
    "# from folium.plugins import HeatMap, MarkerCluster"
   ]
  },
  {
   "cell_type": "code",
   "execution_count": 3,
   "id": "d588f534-884c-476f-8ae6-01bb138694d4",
   "metadata": {},
   "outputs": [],
   "source": [
    "# Загрузка данных \n",
    "df = pd.read_excel('Свод ГО и подразделения.xlsx') \n",
    "regions_df = pd.read_excel('russia_data.xlsx')"
   ]
  },
  {
   "cell_type": "code",
   "execution_count": 4,
   "id": "32b97285-a7c0-4571-aed5-dab0d3c8ff5d",
   "metadata": {},
   "outputs": [],
   "source": [
    "# Предобработка данных\n",
    "df['geo_lat'] = pd.to_numeric(df['geo_lat'], errors='coerce')\n",
    "df['geo_lon'] = pd.to_numeric(df['geo_lon'], errors='coerce')\n",
    "# df = df.dropna(subset=['geo_lat', 'geo_lon'])\n",
    "\n",
    "regions_df['area_km2'] = regions_df['area_km2'].astype(str).str.replace(' ', '').astype(float)\n",
    "regions_df['population'] = regions_df['population'].astype(str).str.replace(' ', '').astype(float)"
   ]
  },
  {
   "cell_type": "code",
   "execution_count": 5,
   "id": "d09a9f56-c4b0-4152-97a9-d6fea1827e51",
   "metadata": {},
   "outputs": [],
   "source": [
    "# Расчет плотности\n",
    "region_counts = df['region'].value_counts().reset_index()\n",
    "region_counts.columns = ['region', 'count']\n",
    "region_density = region_counts.merge(regions_df, on='region', how='left')\n",
    "\n",
    "region_density['density_per_1000km2'] = region_density['count'] / region_density['area_km2'] * 1000\n",
    "region_density['density_per_100k'] = (region_density['count'] / region_density['population']) * 100000"
   ]
  },
  {
   "cell_type": "code",
   "execution_count": 6,
   "id": "7428246b-2dea-4e12-96e8-84a88d89db6b",
   "metadata": {},
   "outputs": [],
   "source": [
    "# Добавляем рейтинги\n",
    "max_rank = len(region_density) + 1\n",
    "\n",
    "region_density['rank_1000km2'] = (\n",
    "    region_density['density_per_1000km2']\n",
    "    .rank(ascending=False, method='min')\n",
    "    .fillna(max_rank)\n",
    "    .astype(int)\n",
    ")\n",
    "\n",
    "region_density['rank_100k'] = (\n",
    "    region_density['density_per_100k']\n",
    "    .rank(ascending=False, method='min')\n",
    "    .fillna(max_rank)\n",
    "    .astype(int)\n",
    ")"
   ]
  },
  {
   "cell_type": "code",
   "execution_count": 7,
   "id": "616ab1b3-af13-4ca0-9ba7-74110414816f",
   "metadata": {},
   "outputs": [],
   "source": [
    "# Создаем словарь с плотностями и рейтингами\n",
    "density_dict = region_density.set_index('region')[['density_per_1000km2', 'density_per_100k', 'rank_1000km2', 'rank_100k']].to_dict('index')"
   ]
  },
  {
   "cell_type": "code",
   "execution_count": 12,
   "id": "5af6ef48-1f56-406c-a924-70c7eaab08a9",
   "metadata": {},
   "outputs": [],
   "source": [
    "# Создание HTML-таблицы регионов с рейтингами\n",
    "top_regions = region_density.sort_values('density_per_1000km2', ascending=False).head(100)\n",
    "html = \"\"\"\n",
    "<h3 style=\"margin-bottom: 10px; font-family: Arial, sans-serif; color: #333;\">Рейтинги регионов по плотности финансовых организаций</h3>\n",
    "<table style=\"width:100%; border-collapse: collapse; font-family: Arial, sans-serif; margin-bottom: 20px;\">\n",
    "    <thead>\n",
    "        <tr style=\"background-color: #4CAF50; color: white;\">\n",
    "            <th style=\"padding: 12px; border: 1px solid #ddd; text-align: left;\">Регион</th>\n",
    "            <th style=\"padding: 12px; border: 1px solid #ddd; text-align: right;\">Кол-во ФО</th>\n",
    "            <th style=\"padding: 12px; border: 1px solid #ddd; text-align: right;\">ФО на 1000 км²</th>\n",
    "            <th style=\"padding: 12px; border: 1px solid #ddd; text-align: center;\">Рейтинг</th>\n",
    "            <th style=\"padding: 12px; border: 1px solid #ddd; text-align: right;\">ФО на 100 тыс.населения</th>\n",
    "            <th style=\"padding: 12px; border: 1px solid #ddd; text-align: center;\">Рейтинг</th>\n",
    "        </tr>\n",
    "    </thead>\n",
    "    <tbody>\n",
    "\"\"\"\n",
    "for _, row in top_regions.iterrows():\n",
    "    # Форматируем числовые значения\n",
    "    count = f\"{int(row['count']):,}\".replace(\",\", \" \")  # Формат с пробелами между тысячами\n",
    "    density_km2 = f\"{row['density_per_1000km2']:.2f}\" if pd.notna(row['density_per_1000km2']) else 'н/д'\n",
    "    density_100k = f\"{row['density_per_100k']:.2f}\" if pd.notna(row['density_per_100k']) else 'н/д'\n",
    "    \n",
    "    html += f\"\"\"\n",
    "        <tr style=\"border-bottom: 1px solid #ddd;\">\n",
    "            <td style=\"padding: 10px; border: 1px solid #ddd; text-align: left;\">{row['region']}</td>\n",
    "            <td style=\"padding: 10px; border: 1px solid #ddd; text-align: right;\">{count}</td>\n",
    "            <td style=\"padding: 10px; border: 1px solid #ddd; text-align: right;\">{density_km2}</td>\n",
    "            <td style=\"padding: 10px; border: 1px solid #ddd; text-align: center; \n",
    "                background-color: {'#ffdddd' if row['rank_1000km2'] == 1 else '#f9f9f9'};\n",
    "                font-weight: {'bold' if row['rank_1000km2'] <= 3 else 'normal'}\">\n",
    "                {row['rank_1000km2']}\n",
    "            </td>\n",
    "            <td style=\"padding: 10px; border: 1px solid #ddd; text-align: right;\">{density_100k}</td>\n",
    "            <td style=\"padding: 10px; border: 1px solid #ddd; text-align: center; \n",
    "                background-color: {'#ffdddd' if row['rank_100k'] == 1 else '#f9f9f9'};\n",
    "                font-weight: {'bold' if row['rank_100k'] <= 3 else 'normal'}\">\n",
    "                {row['rank_100k']}\n",
    "            </td>\n",
    "        </tr>\n",
    "    \"\"\"\n",
    "\n",
    "html += \"\"\"\n",
    "    </tbody>\n",
    "</table>\n",
    "<div style=\"font-size: 12px; color: #666; margin-top: -15px; margin-bottom: 20px;\">\n",
    "    *Рейтинг рассчитан по убыванию плотности (1 - наивысшая плотность)\n",
    "</div>\n",
    "\"\"\""
   ]
  },
  {
   "cell_type": "code",
   "execution_count": 17,
   "id": "cf8d995b-5495-4051-8c5f-597d3eb289d7",
   "metadata": {},
   "outputs": [],
   "source": [
    "# Добавляем заголовок карты\n",
    "title_html = '''\n",
    "<h3 align=\"center\" style=\"font-size:16px; margin-top: 10px; margin-bottom: 10px;\">\n",
    "    <b>Плотность финансовых организаций по регионам РФ</b>\n",
    "</h3>\n",
    "'''"
   ]
  },
  {
   "cell_type": "code",
   "execution_count": 19,
   "id": "761e9489-1770-4cf3-bd25-d89acc97beb8",
   "metadata": {},
   "outputs": [
    {
     "name": "stdout",
     "output_type": "stream",
     "text": [
      "HTML-файл успешно сохранен: regions_density_ranking.html\n"
     ]
    }
   ],
   "source": [
    "# Сохраняем HTML-файл\n",
    "with open('regions_density_ranking.html', 'w', encoding='utf-8') as f:\n",
    "    f.write(html)\n",
    "\n",
    "print(\"HTML-файл успешно сохранен: regions_density_ranking.html\")"
   ]
  },
  {
   "cell_type": "code",
   "execution_count": 23,
   "id": "3ad33984-56e2-4202-9109-39cb0a553ca2",
   "metadata": {},
   "outputs": [
    {
     "name": "stdout",
     "output_type": "stream",
     "text": [
      "Общее количество регионов в данных: 90\n",
      "Количество регионов с данными о площади: 89\n",
      "Количество регионов с рассчитанной плотностью: 89\n",
      "Количество регионов без данных (не вошедших в рейтинг): 1\n",
      "\n",
      "Детальная статистика:\n",
      "Всего записей организаций: 48826\n",
      "Уникальных регионов в основном датасете: 90\n",
      "Уникальных регионов в справочнике: 89\n",
      "\n",
      "Регионы в основном датасете, но отсутствующие в справочнике: 1\n",
      "Список отсутствующих регионов:\n",
      "  - г Байконур\n",
      "\n",
      "Регионы в справочнике, но отсутствующие в основном датасете: 0\n"
     ]
    }
   ],
   "source": [
    "# Подсчет количества уникальных регионов в данных\n",
    "total_regions = df['region'].nunique()\n",
    "print(f\"Общее количество регионов в данных: {total_regions}\")\n",
    "\n",
    "# Подсчет регионов с данными о площади и населении\n",
    "regions_with_area = regions_df['region'].nunique()\n",
    "print(f\"Количество регионов с данными о площади: {regions_with_area}\")\n",
    "\n",
    "# Подсчет регионов, для которых можно рассчитать плотность\n",
    "regions_with_density = region_density[region_density['density_per_1000km2'].notna()]['region'].nunique()\n",
    "print(f\"Количество регионов с рассчитанной плотностью: {regions_with_density}\")\n",
    "\n",
    "# Подсчет регионов без данных (не вошедших в рейтинг)\n",
    "regions_without_data = total_regions - regions_with_density\n",
    "print(f\"Количество регионов без данных (не вошедших в рейтинг): {regions_without_data}\")\n",
    "\n",
    "# Детальная статистика по регионам\n",
    "print(\"\\nДетальная статистика:\")\n",
    "print(f\"Всего записей организаций: {len(df)}\")\n",
    "print(f\"Уникальных регионов в основном датасете: {df['region'].nunique()}\")\n",
    "print(f\"Уникальных регионов в справочнике: {regions_df['region'].nunique()}\")\n",
    "\n",
    "# Проверка, какие регионы есть в основном датасете, но отсутствуют в справочнике\n",
    "missing_in_reference = set(df['region'].unique()) - set(regions_df['region'].unique())\n",
    "print(f\"\\nРегионы в основном датасете, но отсутствующие в справочнике: {len(missing_in_reference)}\")\n",
    "if missing_in_reference:\n",
    "    print(\"Список отсутствующих регионов:\")\n",
    "    for region in sorted(missing_in_reference):\n",
    "        print(f\"  - {region}\")\n",
    "\n",
    "# Проверка, какие регионы есть в справочнике, но отсутствуют в основном датасете\n",
    "missing_in_main = set(regions_df['region'].unique()) - set(df['region'].unique())\n",
    "print(f\"\\nРегионы в справочнике, но отсутствующие в основном датасете: {len(missing_in_main)}\")\n",
    "if missing_in_main:\n",
    "    print(\"Список регионов без организаций:\")\n",
    "    for region in sorted(missing_in_main):\n",
    "        print(f\"  - {region}\")"
   ]
  }
 ],
 "metadata": {
  "kernelspec": {
   "display_name": "Python 3 (ipykernel)",
   "language": "python",
   "name": "python3"
  },
  "language_info": {
   "codemirror_mode": {
    "name": "ipython",
    "version": 3
   },
   "file_extension": ".py",
   "mimetype": "text/x-python",
   "name": "python",
   "nbconvert_exporter": "python",
   "pygments_lexer": "ipython3",
   "version": "3.12.4"
  }
 },
 "nbformat": 4,
 "nbformat_minor": 5
}
